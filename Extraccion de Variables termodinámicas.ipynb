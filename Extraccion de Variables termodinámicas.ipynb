{
 "cells": [
  {
   "cell_type": "markdown",
   "metadata": {},
   "source": [
    "# Capítulo 2: Variables termodinámicas"
   ]
  },
  {
   "cell_type": "markdown",
   "metadata": {},
   "source": [
    "Vamos a proceder a importar las distintas especies que se van a valorar dentro de nuestro programa de equilibrio químico, de manera que primero debemos determinar cuales son y por qué:\n",
    "\n",
    "A través de la base de datos `propellants.json` vamos a obtener las especies que participan en los productos de la reacción de combustión del Rocket Candy. De modo que buscaremos después los datos de cada una de las especies en `Species.json` y los reactivos en `Reactants.json`.\n",
    "\n",
    "#### Reactantes"
   ]
  },
  {
   "cell_type": "code",
   "execution_count": 3,
   "metadata": {},
   "outputs": [
    {
     "name": "stdout",
     "output_type": "stream",
     "text": [
      "Composición de Sorbitol: [[6.0, 'C'], [14.0, 'H'], [6.0, 'O']]\n",
      "Peso Molecular de Sorbitol: [182.17, 0]\n",
      "Entalpía de Sorbitol: [-1353.7, 2, 298.15]\n",
      "Intervalos de Sorbitol: None\n"
     ]
    }
   ],
   "source": [
    "import json\n",
    "\n",
    "def cargar_datos(ruta):\n",
    "    with open(ruta, 'r') as archivo:\n",
    "        datos = json.load(archivo)\n",
    "    return datos\n",
    "\n",
    "def obtener_propiedades(datos, nombre_especie, propiedad):\n",
    "    especie = datos.get(nombre_especie)\n",
    "    if especie:\n",
    "        return especie.get(propiedad)\n",
    "    else:\n",
    "        return None\n",
    "\n",
    "ruta_archivo = 'C:/Users/user/Desktop/UPM/GIA-Practicas+TFG/TFG/Codigos/Bases de datos/Reactants.json'\n",
    "datos = cargar_datos(ruta_archivo)\n",
    "\n",
    "# Ahora, para obtener por ejemplo el peso molecular del ácido acético\n",
    "nombre_especie = 'Sorbitol'\n",
    "\n",
    "propiedad_1 = 'Composition'\n",
    "propiedad_2 = 'MolecWeight'\n",
    "propiedad_3 = 'Enthalpy'\n",
    "propiedad_4 = 'Intervals'\n",
    "\n",
    "Composicion = obtener_propiedades(datos, nombre_especie, propiedad_1)\n",
    "peso_molecular = obtener_propiedades(datos, nombre_especie, propiedad_2)\n",
    "Entalpia = obtener_propiedades(datos, nombre_especie, propiedad_3)\n",
    "Intervalos = obtener_propiedades(datos, nombre_especie, propiedad_4)\n",
    "\n",
    "print(f\"Composición de {nombre_especie}: {Composicion}\")\n",
    "print(f\"Peso Molecular de {nombre_especie}: {peso_molecular}\")\n",
    "print(f\"Entalpía de {nombre_especie}: {Entalpia}\")\n",
    "print(f\"Intervalos de {nombre_especie}: {Intervalos}\")\n"
   ]
  },
  {
   "cell_type": "markdown",
   "metadata": {},
   "source": [
    "#### Especies"
   ]
  },
  {
   "cell_type": "code",
   "execution_count": 9,
   "metadata": {},
   "outputs": [
    {
     "name": "stdout",
     "output_type": "stream",
     "text": [
      "Composición de K2CO3(L): [[2.0, 'K'], [1.0, 'C'], [3.0, 'O']]\n",
      "Peso Molecular de K2CO3(L): [138.2055, 0]\n",
      "Entalpía de K2CO3(L): [-1151500.0, 0]\n",
      "Intervalos de K2CO3(L): [{'T_int': [1173.0, 6000.0007], 'a': [0.0, 0.0, 24.71582811, 0.0, 0.0, 0.0, 0.0], 'b': [-146666.3988, -127.30642], 'exp': [-2.0, -1.0, 0.0, 1.0, 2.0, 3.0, 4.0]}]\n"
     ]
    }
   ],
   "source": [
    "import json\n",
    "\n",
    "def cargar_datos(ruta):\n",
    "    with open(ruta, 'r') as archivo:\n",
    "        datos = json.load(archivo)\n",
    "    return datos\n",
    "\n",
    "def obtener_propiedades(datos, nombre_especie, propiedad):\n",
    "    especie = datos.get(nombre_especie)\n",
    "    if especie:\n",
    "        return especie.get(propiedad)\n",
    "    else:\n",
    "        return None\n",
    "\n",
    "ruta_archivo = 'C:/Users/user/Desktop/UPM/GIA-Practicas+TFG/TFG/Codigos/Bases de datos/Species.json'\n",
    "datos = cargar_datos(ruta_archivo)\n",
    "\n",
    "# Ahora, para obtener por ejemplo el peso molecular del ácido acético\n",
    "nombre_especie = 'K2CO3(L)'\n",
    "\n",
    "propiedad_1 = 'Composition'\n",
    "propiedad_2 = 'MolecWeight'\n",
    "propiedad_3 = 'Enthalpy'\n",
    "propiedad_4 = 'Intervals'\n",
    "\n",
    "Composicion = obtener_propiedades(datos, nombre_especie, propiedad_1)\n",
    "peso_molecular = obtener_propiedades(datos, nombre_especie, propiedad_2)\n",
    "Entalpia = obtener_propiedades(datos, nombre_especie, propiedad_3)\n",
    "Intervalos = obtener_propiedades(datos, nombre_especie, propiedad_4)\n",
    "\n",
    "print(f\"Composición de {nombre_especie}: {Composicion}\")\n",
    "print(f\"Peso Molecular de {nombre_especie}: {peso_molecular}\")\n",
    "print(f\"Entalpía de {nombre_especie}: {Entalpia}\")\n",
    "print(f\"Intervalos de {nombre_especie}: {Intervalos}\")\n"
   ]
  }
 ],
 "metadata": {
  "kernelspec": {
   "display_name": "base",
   "language": "python",
   "name": "python3"
  },
  "language_info": {
   "codemirror_mode": {
    "name": "ipython",
    "version": 3
   },
   "file_extension": ".py",
   "mimetype": "text/x-python",
   "name": "python",
   "nbconvert_exporter": "python",
   "pygments_lexer": "ipython3",
   "version": "3.11.5"
  }
 },
 "nbformat": 4,
 "nbformat_minor": 2
}
